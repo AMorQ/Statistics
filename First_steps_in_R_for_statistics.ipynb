{
  "nbformat": 4,
  "nbformat_minor": 0,
  "metadata": {
    "colab": {
      "provenance": []
    },
    "kernelspec": {
      "name": "python3",
      "display_name": "Python 3"
    },
    "language_info": {
      "name": "python"
    }
  },
  "cells": [
    {
      "cell_type": "markdown",
      "source": [
        "\n",
        "R version 3.6.1 (2019-07-05) -- \"Action of the Toes\"\n",
        "Copyright (C) 2019 The R Foundation for Statistical Computing\n",
        "Platform: x86_64-w64-mingw32/x64 (64-bit)\n",
        "\n",
        "R is free software and comes with ABSOLUTELY NO WARRANTY.\n",
        "You are welcome to redistribute it under certain conditions.\n",
        "Type 'license()' or 'licence()' for distribution details.\n",
        "\n",
        "R is a collaborative project with many contributors.\n",
        "Type 'contributors()' for more information and\n",
        "'citation()' on how to cite R or R packages in publications.\n",
        "\n",
        "Type 'demo()' for some demos, 'help()' for on-line help, or\n",
        "'help.start()' for an HTML browser interface to help.\n",
        "Type 'q()' to quit R.\n",
        "\n",
        "> library(readxl)\n",
        "> Engagement_Project <- read_excel(\"C:/Users/amorc/Downloads/project-files-customer-engagement-analysis-in-excel/Engagement Project.xlsx\",\n",
        "+     sheet = \"Task 3\", col_names = FALSE)\n",
        "New names:\n",
        "* `` -> ...1\n",
        "* `` -> ...2\n",
        "* `` -> ...3\n",
        "* `` -> ...4\n",
        "* `` -> ...5\n",
        "> View(Engagement_Project)\n",
        "> View(Engagement_Project)\n",
        "> Engagement_Project <- Engagement_Project[-c(1,2,3),]\n",
        "> View(Engagement_Project)\n",
        "> View(Engagement_Project)\n",
        "> Engagement_Project <- Engagement_project[-c(1),]\n",
        "Error: object 'Engagement_project' not found\n",
        "> Engagement_Project <- Engagement_Project[-c(1),]\n",
        "> Engagement_Project <- Engagement_Project[-c(1),]\n",
        "> Engagement_Project <- Engagement_Project[, -c(1, 2, 3)]\n",
        "> shapiro_2021 <- shaphiro.test(Engagement_Project[, c(4)])\n",
        "Error in shaphiro.test(Engagement_Project[, c(4)]) :\n",
        "  could not find function \"shaphiro.test\"\n",
        "> shapiro_2021 <- shapiro.test(Engagement_Project[, c(4)])\n",
        "Error: Positive column indexes in `[` must match number of columns:\n",
        "* `.data` has 2 columns\n",
        "* Position 1 equals 4\n",
        "Call `rlang::last_error()` to see a backtrace\n",
        "> shapiro_2021 <- shapiro.test(Engagement_Project[, c(1)])\n",
        "Error in shapiro.test(Engagement_Project[, c(1)]) :\n",
        "  is.numeric(x) is not TRUE\n",
        "> str(Engagement_Project)\n",
        "Classes ‘tbl_df’, ‘tbl’ and 'data.frame':\t120658 obs. of  2 variables:\n",
        " $ ...4: chr  \"4716.68\" \"4670.7\" \"4622.3500000000004\" \"4617.75\" ...\n",
        " $ ...5: chr  \"6338.07\" \"6280.12\" \"6250.32\" \"6208.8\" ...\n",
        "> Engagement_Project$4 <- as.numeric(Engagement_Project$4)\n",
        "Error: unexpected numeric constant in \"Engagement_Project$4\"\n",
        "> Engagement_Project$5 <- as.numeric(Engagement_Project$5)\n",
        "Error: unexpected numeric constant in \"Engagement_Project$5\"\n",
        "> `Engagement_Project$5` <- as.numeric(`Engagement_Project$5`)\n",
        "Error: object 'Engagement_Project$5' not found\n",
        "> Engagement_Project$`5` <- as.numeric(Engagement_Project$`5`)\n",
        "Error in `$<-.data.frame`(`*tmp*`, `5`, value = numeric(0)) :\n",
        "  replacement has 0 rows, data has 120658\n",
        "In addition: Warning message:\n",
        "Unknown or uninitialised column: '5'.\n",
        "> Engagement_Project$`...5` <- as.numeric(Engagement_Project$`...5`)\n",
        "> shapiro_2022 <- shapiro.test(Engagement_Project[, c(2)])\n",
        "Error in shapiro.test(Engagement_Project[, c(2)]) :\n",
        "  is.numeric(x) is not TRUE\n",
        "> str(Engagement_Project)\n",
        "Classes ‘tbl_df’, ‘tbl’ and 'data.frame':\t120658 obs. of  2 variables:\n",
        " $ ...4: chr  \"4716.68\" \"4670.7\" \"4622.3500000000004\" \"4617.75\" ...\n",
        " $ ...5: num  6338 6280 6250 6209 6205 ...\n",
        "> shapiro_2022 <- shapiro.test(Engagement_Project[, c(1)])\n",
        "Error in shapiro.test(Engagement_Project[, c(1)]) :\n",
        "  is.numeric(x) is not TRUE\n",
        "> shapiro_2022 <- shapiro.test(Engagement_Project[, `...5`])\n",
        "Error in check_names_df(j, x) : object '...5' not found\n",
        "> shapiro_2022 <- shapiro.test(Engagement_Project[, c(`...5`)])\n",
        "Error in check_names_df(j, x) : object '...5' not found\n",
        "> shapiro_2022 <- shapiro.test(Engagement_Project[, Engagement_Project$`...5`)\n",
        "Error: unexpected ')' in \"shapiro_2022 <- shapiro.test(Engagement_Project[, Engagement_Project$`...5`)\"\n",
        "> shapiro_2022 <- shapiro.test(Engagement_Project$`...5`)\n",
        "Error in shapiro.test(Engagement_Project$...5) :\n",
        "  sample size must be between 3 and 5000\n",
        ">"
      ],
      "metadata": {
        "id": "GTF7Xb1X6hqI"
      }
    },
    {
      "cell_type": "code",
      "execution_count": null,
      "metadata": {
        "id": "v2SlyIaM6d3J"
      },
      "outputs": [],
      "source": []
    }
  ]
}